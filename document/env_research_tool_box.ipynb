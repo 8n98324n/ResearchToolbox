{
 "cells": [
  {
   "attachments": {},
   "cell_type": "markdown",
   "metadata": {},
   "source": [
    "## 建立上课环境(方法一)\n",
    "\n",
    "### 用档案建立一个虚拟环境\n",
    "将老师给的affective_computing.txt放到[c:\\用户\\你的名称]下，并且在conda终端上输入以下代码(这个动作可能会花一些时间):\n",
    "\n",
    "conda create --name affective_machine_learning --file affective_machine_learning.txt\n",
    "\n",
    "### 启用虚拟环境\n",
    "conda activate affective_machine_learning\n",
    "\n",
    "### 确认内核interpreter\n",
    "VSCode右上角, affective_machine_learning\n",
    "\n",
    "## 建立上课环境(方法二，可略过)\n",
    "\n",
    "### 建立一个虚拟环境\n",
    "\n",
    "conda create --name research_toolbox_v1\n",
    "\n",
    "### 安装package\n",
    "\n",
    "- conda install scikit-learn\n"
   ]
  }
 ],
 "metadata": {
  "language_info": {
   "name": "python"
  },
  "orig_nbformat": 4
 },
 "nbformat": 4,
 "nbformat_minor": 2
}
